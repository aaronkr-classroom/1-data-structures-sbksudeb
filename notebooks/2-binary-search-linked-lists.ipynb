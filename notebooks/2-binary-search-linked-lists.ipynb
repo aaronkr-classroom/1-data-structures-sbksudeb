{
 "cells": [
  {
   "cell_type": "markdown",
   "metadata": {},
   "source": [
    "# Linear Scan\n",
    "\n",
    "In this algorithm, we scan an array of values looking for a specific value. We can stop the scan as soon as we find the value we are looking for. \n",
    "\n",
    "**Time Complexity:** This algorithm is very simple and has a time complexity of O(n).\n",
    "\n",
    "![Linear Scan](../img/2.1-linear-scan.jpg)"
   ]
  },
  {
   "cell_type": "code",
   "execution_count": 1,
   "metadata": {},
   "outputs": [
    {
     "name": "stdout",
     "output_type": "stream",
     "text": [
      "Value 21 found at index 2.\n"
     ]
    }
   ],
   "source": [
    "# Function for Linear Scan to find a value in an array\n",
    "def linear_scan(arr,target):\n",
    "    idx = 0\n",
    "    while idx <len (arr):\n",
    "        if arr[idx]==target:\n",
    "            return idx\n",
    "        idx+=1\n",
    "    return -1\n",
    "\n",
    "\n",
    "# Example usage\n",
    "array = [10, 15, 21, 30, 45]\n",
    "\n",
    "# Value to find\n",
    "value_to_find = 21\n",
    "\n",
    "# Perform linear scan\n",
    "result = linear_scan(array, value_to_find)\n",
    "\n",
    "if result != -1:\n",
    "    print(f\"Value {value_to_find} found at index {result}.\")\n",
    "else:\n",
    "    print(f\"Value {value_to_find} not found in the array.\")"
   ]
  },
  {
   "cell_type": "markdown",
   "metadata": {},
   "source": [
    "# Binary Search\n",
    "\n",
    "Binary search is a fast search algorithm with a time complexity of O(log n). This search algorithm works on the principle of divide and conquer. For this algorithm to work properly, the data collection should be in a _sorted_ form.\n",
    "\n",
    "**Time Complexity:** The time complexity of the binary search algorithm is O(log n).\n",
    "\n",
    "![Binary Search](../img/2.2-binary-search.jpg)"
   ]
  },
  {
   "cell_type": "code",
   "execution_count": 5,
   "metadata": {},
   "outputs": [
    {
     "name": "stdout",
     "output_type": "stream",
     "text": [
      "Array:[10, 15, 21, 30, 45],target:21,[low:0,mid:2,high:4]\n",
      "congratulation\n"
     ]
    },
    {
     "ename": "NameError",
     "evalue": "name 'true' is not defined",
     "output_type": "error",
     "traceback": [
      "\u001b[0;31m---------------------------------------------------------------------------\u001b[0m",
      "\u001b[0;31mNameError\u001b[0m                                 Traceback (most recent call last)",
      "Cell \u001b[0;32mIn[5], line 27\u001b[0m\n\u001b[1;32m     24\u001b[0m value_to_find \u001b[38;5;241m=\u001b[39m \u001b[38;5;241m21\u001b[39m\n\u001b[1;32m     26\u001b[0m \u001b[38;5;66;03m# Perform binary search\u001b[39;00m\n\u001b[0;32m---> 27\u001b[0m result \u001b[38;5;241m=\u001b[39m \u001b[43mbinary_search\u001b[49m\u001b[43m(\u001b[49m\u001b[43marray\u001b[49m\u001b[43m,\u001b[49m\u001b[43m \u001b[49m\u001b[43mvalue_to_find\u001b[49m\u001b[43m)\u001b[49m\n\u001b[1;32m     29\u001b[0m \u001b[38;5;28;01mif\u001b[39;00m result \u001b[38;5;241m!=\u001b[39m \u001b[38;5;241m-\u001b[39m\u001b[38;5;241m1\u001b[39m:\n\u001b[1;32m     30\u001b[0m     \u001b[38;5;28mprint\u001b[39m(\u001b[38;5;124mf\u001b[39m\u001b[38;5;124m\"\u001b[39m\u001b[38;5;124mValue \u001b[39m\u001b[38;5;132;01m{\u001b[39;00mvalue_to_find\u001b[38;5;132;01m}\u001b[39;00m\u001b[38;5;124m found at index \u001b[39m\u001b[38;5;132;01m{\u001b[39;00mresult\u001b[38;5;132;01m}\u001b[39;00m\u001b[38;5;124m.\u001b[39m\u001b[38;5;124m\"\u001b[39m)\n",
      "Cell \u001b[0;32mIn[5], line 13\u001b[0m, in \u001b[0;36mbinary_search\u001b[0;34m(A, target)\u001b[0m\n\u001b[1;32m     11\u001b[0m \u001b[38;5;28;01mif\u001b[39;00m A[mid]\u001b[38;5;241m==\u001b[39mtarget:\n\u001b[1;32m     12\u001b[0m     \u001b[38;5;28mprint\u001b[39m(\u001b[38;5;124m\"\u001b[39m\u001b[38;5;124mcongratulation\u001b[39m\u001b[38;5;124m\"\u001b[39m)\n\u001b[0;32m---> 13\u001b[0m     \u001b[38;5;28;01mreturn\u001b[39;00m \u001b[43mtrue\u001b[49m,mid\n\u001b[1;32m     14\u001b[0m \u001b[38;5;28;01melif\u001b[39;00m A[mid]\u001b[38;5;241m<\u001b[39mtarget:\n\u001b[1;32m     15\u001b[0m     low\u001b[38;5;241m=\u001b[39mmid\u001b[38;5;241m+\u001b[39m\u001b[38;5;241m1\u001b[39m\n",
      "\u001b[0;31mNameError\u001b[0m: name 'true' is not defined"
     ]
    }
   ],
   "source": [
    "# Function for Binary Search to find a value in a sorted array\n",
    "def binary_search(A,target):\n",
    "    high=len(A)-1\n",
    "    low=0\n",
    "\n",
    "    while low <= high:\n",
    "       \n",
    "        mid=(high+low)//2\n",
    "        print(f\"Array:{A},target:{target},[low:{low},mid:{mid},high:{high}]\")\n",
    "\n",
    "        if A[mid]==target:\n",
    "            print(\"congratulation\")\n",
    "            return true,mid\n",
    "        elif A[mid]<target:\n",
    "            low=mid+1\n",
    "        else:\n",
    "            high=mid-1\n",
    "    return-1\n",
    "\n",
    "# Example usage (array must be sorted for binary search)\n",
    "array = [10, 15, 21, 30, 45]\n",
    "\n",
    "# Value to find\n",
    "value_to_find = 21\n",
    "\n",
    "# Perform binary search\n",
    "result = binary_search(array, value_to_find)\n",
    "\n",
    "if result != -1:\n",
    "    print(f\"Value {value_to_find} found at index {result}.\")\n",
    "else:\n",
    "    print(f\"Value {value_to_find} not found in the array.\")"
   ]
  },
  {
   "cell_type": "markdown",
   "metadata": {},
   "source": [
    "# Array Double\n",
    "\n",
    "When the array is full, we can create a new array with double the size of the original array and copy all the elements to the new array. \n",
    "\n",
    "**Time Complexity:** This operation has a time complexity of O(n).\n",
    "\n",
    "![Array Double](../img/2.3-array-double.jpg)"
   ]
  },
  {
   "cell_type": "code",
   "execution_count": null,
   "metadata": {},
   "outputs": [],
   "source": [
    "# Function to double the size of the array\n",
    "\n",
    "\n",
    "# Example usage\n",
    "array = [10, 20, 30, 40, 50]  # Given array (5 items long)\n",
    "\n",
    "print(\"Original array:\", array)\n",
    "\n",
    "# Double the size of the array and add the new value\n",
    "new_array = array_double(array)\n",
    "\n",
    "print(\"Array after resizing:\", new_array)"
   ]
  },
  {
   "cell_type": "code",
   "execution_count": null,
   "metadata": {},
   "outputs": [],
   "source": [
    "# If you want to add a new value at the next available position,\n",
    "# pass in the new value as a second parameter and use the following code.\n",
    "new_array[len(arr)] = new_value\n"
   ]
  },
  {
   "cell_type": "markdown",
   "metadata": {},
   "source": [
    "# Linked List Lookup\n",
    "\n",
    "In a linked list, we have to traverse the list from the beginning to find the desired element.\n",
    "\n",
    "**Time Complexity:** The time complexity of this operation is O(n).\n",
    "\n",
    "![Linked List Lookup](../img/2.4-linked-list-lookup.jpg)"
   ]
  },
  {
   "cell_type": "code",
   "execution_count": null,
   "metadata": {},
   "outputs": [],
   "source": [
    "# Function to lookup an element in a linked list by index\n",
    "\n",
    "# Example usage\n",
    "# Creating a linked list: 10 -> 20 -> 30 -> 40 -> 50\n",
    "node1 = ListNode(10)\n",
    "node2 = ListNode(20)\n",
    "node3 = ListNode(30)\n",
    "node4 = ListNode(40)\n",
    "node5 = ListNode(50)\n",
    "\n",
    "# Linking nodes\n",
    "node1.next = node2\n",
    "node2.next = node3\n",
    "node3.next = node4\n",
    "node4.next = node5\n",
    "\n",
    "# Head of the linked list\n",
    "linked_list_head = node1\n",
    "\n",
    "# Element number to look up\n",
    "element_number = 2\n",
    "\n",
    "# Perform lookup\n",
    "result = linked_list_lookup(linked_list_head, element_number)\n",
    "\n",
    "if result is not None:\n",
    "    print(f\"Element at index {element_number} is {result}.\")\n",
    "else:\n",
    "    print(f\"Element at index {element_number} does not exist in the linked list.\")"
   ]
  },
  {
   "cell_type": "markdown",
   "metadata": {},
   "source": [
    "# Linked List Insert\n",
    "\n",
    "In a linked list, we can insert an element at the beginning, middle, or end of the list.\n",
    "\n",
    "**Time Complexity:** The time complexity of this operation is O(1) for inserting at the beginning or end of the list. For inserting in the middle of the list, the time complexity is O(n).\n",
    "\n",
    "![Linked List Insert After](../img/2.5-linked-list-insert-after.jpg)\n",
    "![Linked List Insert](../img/2.6-linked-list-insert.jpg)"
   ]
  },
  {
   "cell_type": "code",
   "execution_count": null,
   "metadata": {},
   "outputs": [],
   "source": [
    "# Function to insert a node in a linked list\n",
    "\n",
    "# Example usage\n",
    "head = ListNode(10)\n",
    "head = insert_at_end(head, 20)\n",
    "head = insert_at_end(head, 30)\n",
    "head = insert_at_end(head, 40)\n",
    "\n",
    "print(\"Original list:\")\n",
    "print_list(head)\n",
    "\n",
    "# Insert at the beginning\n",
    "head = insert_at_beginning(head, 5)\n",
    "print(\"After inserting 5 at the beginning:\")\n",
    "print_list(head)\n",
    "\n",
    "# Insert at the end\n",
    "head = insert_at_end(head, 50)\n",
    "print(\"After inserting 50 at the end:\")\n",
    "print_list(head)\n",
    "\n",
    "# Insert in the middle (e.g., at position 2)\n",
    "head = insert_in_middle(head, 25, 2)\n",
    "print(\"After inserting 25 at position 2:\")\n",
    "print_list(head)"
   ]
  },
  {
   "cell_type": "markdown",
   "metadata": {},
   "source": [
    "# Linked List Delete\n",
    "\n",
    "In a linked list, we can delete an element from the beginning, middle, or end of the list.\n",
    "\n",
    "**Time Complexity:** The time complexity of this operation is O(1) for deleting from the beginning or end of the list. For deleting from the middle of the list, the time complexity is O(n).\n",
    "\n",
    "![Linked List Delete](../img/2.7-linked-list-delete.jpg)"
   ]
  },
  {
   "cell_type": "code",
   "execution_count": null,
   "metadata": {},
   "outputs": [],
   "source": [
    "# Function to delete a node in a linked list by index or value\n",
    "\n",
    "# Example usage\n",
    "head = ListNode(10)\n",
    "head = insert_at_end(head, 20)\n",
    "head = insert_at_end(head, 30)\n",
    "head = insert_at_end(head, 40)\n",
    "\n",
    "print(\"Original list:\")\n",
    "print_list(head)\n",
    "\n",
    "# Delete by index (e.g., index 2)\n",
    "head = delete_by_index(head, 2)\n",
    "print(\"After deleting node at index 2:\")\n",
    "print_list(head)\n",
    "\n",
    "# Delete by value (e.g., value 20)\n",
    "head = delete_by_value(head, 20)\n",
    "print(\"After deleting node with value 20:\")\n",
    "print_list(head)"
   ]
  },
  {
   "cell_type": "code",
   "execution_count": null,
   "metadata": {},
   "outputs": [],
   "source": []
  }
 ],
 "metadata": {
  "kernelspec": {
   "display_name": "Python 3",
   "language": "python",
   "name": "python3"
  },
  "language_info": {
   "codemirror_mode": {
    "name": "ipython",
    "version": 3
   },
   "file_extension": ".py",
   "mimetype": "text/x-python",
   "name": "python",
   "nbconvert_exporter": "python",
   "pygments_lexer": "ipython3",
   "version": "3.12.1"
  }
 },
 "nbformat": 4,
 "nbformat_minor": 2
}
